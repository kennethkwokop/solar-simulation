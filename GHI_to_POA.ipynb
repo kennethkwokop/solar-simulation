{
  "cells": [
    {
      "cell_type": "markdown",
      "metadata": {
        "id": "view-in-github",
        "colab_type": "text"
      },
      "source": [
        "<a href=\"https://colab.research.google.com/github/kennethkwokop/solar-simulation/blob/main/GHI_to_POA.ipynb\" target=\"_parent\"><img src=\"https://colab.research.google.com/assets/colab-badge.svg\" alt=\"Open In Colab\"/></a>"
      ]
    },
    {
      "cell_type": "code",
      "execution_count": null,
      "id": "3c71fb01-f7a4-44bd-bc0a-7b441ef447b3",
      "metadata": {
        "id": "3c71fb01-f7a4-44bd-bc0a-7b441ef447b3",
        "outputId": "b8c19521-9805-4eda-d3e4-dfb72c7d2417"
      },
      "outputs": [
        {
          "data": {
            "image/png": "[encoded data removed]",
            "text/plain": [
              "<Figure size 432x288 with 2 Axes>"
            ]
          },
          "metadata": {
            "needs_background": "light"
          },
          "output_type": "display_data"
        },
        {
          "data": {
            "text/plain": [
              "<Figure size 432x288 with 0 Axes>"
            ]
          },
          "metadata": {},
          "output_type": "display_data"
        }
      ],
      "source": [
        "from pvlib import location\n",
        "from pvlib import irradiance\n",
        "import pandas as pd\n",
        "from matplotlib import pyplot as plt\n",
        "\n",
        "# For this example, we will be using Golden, Colorado\n",
        "tz = 'Hongkong'\n",
        "lat, lon = 22.4006261, 113.9700839\n",
        "\n",
        "# Create location object to store lat, lon, timezone\n",
        "site = location.Location(lat, lon, tz=tz)\n",
        "\n",
        "\n",
        "# Calculate clear-sky GHI and transpose to plane of array\n",
        "# Define a function so that we can re-use the sequence of operations with\n",
        "# different locations\n",
        "def get_irradiance(site_location, date, tilt, surface_azimuth):\n",
        "    # Creates one day's worth of 10 min intervals\n",
        "    times = pd.date_range(date, freq='10min', periods=6*24,\n",
        "                          tz=site_location.tz)\n",
        "    # Generate clearsky data using the Ineichen model, which is the default\n",
        "    # The get_clearsky method returns a dataframe with values for GHI, DNI,\n",
        "    # and DHI\n",
        "    clearsky = site_location.get_clearsky(times)\n",
        "    # Get solar azimuth and zenith to pass to the transposition function\n",
        "    solar_position = site_location.get_solarposition(times=times)\n",
        "    # Use the get_total_irradiance function to transpose the GHI to POA\n",
        "    POA_irradiance = irradiance.get_total_irradiance(\n",
        "        surface_tilt=tilt,\n",
        "        surface_azimuth=surface_azimuth,\n",
        "        dni=clearsky['dni'],\n",
        "        ghi=clearsky['ghi'],\n",
        "        dhi=clearsky['dhi'],\n",
        "        solar_zenith=solar_position['apparent_zenith'],\n",
        "        solar_azimuth=solar_position['azimuth'])\n",
        "    # Return DataFrame with only GHI and POA\n",
        "    return pd.DataFrame({'GHI': clearsky['ghi'],\n",
        "                         'POA': POA_irradiance['poa_global']})\n",
        "\n",
        "\n",
        "# Get irradiance data for summer and winter solstice, assuming 25 degree tilt\n",
        "# and a south facing array\n",
        "summer_irradiance = get_irradiance(site, '06-21-2020', 10, 173)\n",
        "winter_irradiance = get_irradiance(site, '06-21-2020', 15, 173)\n",
        "\n",
        "# Convert Dataframe Indexes to Hour:Minute format to make plotting easier\n",
        "summer_irradiance.index = summer_irradiance.index.strftime(\"%H:%M\")\n",
        "winter_irradiance.index = winter_irradiance.index.strftime(\"%H:%M\")\n",
        "\n",
        "# Plot GHI vs. POA for winter and summer\n",
        "fig, (ax1, ax2) = plt.subplots(1, 2, sharey=True)\n",
        "summer_irradiance['GHI'].plot(ax=ax1, label='GHI')\n",
        "summer_irradiance['POA'].plot(ax=ax1, label='POA')\n",
        "winter_irradiance['GHI'].plot(ax=ax2, label='GHI')\n",
        "winter_irradiance['POA'].plot(ax=ax2, label='POA')\n",
        "ax1.set_xlabel('Time of day (Summer)')\n",
        "ax2.set_xlabel('Time of day (Winter)')\n",
        "ax1.set_ylabel('Irradiance ($W/m^2$)')\n",
        "ax1.legend()\n",
        "ax2.legend()\n",
        "plt.show()\n",
        "plt.savefig('foo.pdf')"
      ]
    },
    {
      "cell_type": "code",
      "execution_count": null,
      "id": "1b6defc8-44ee-472c-8740-acb966974b79",
      "metadata": {
        "id": "1b6defc8-44ee-472c-8740-acb966974b79"
      },
      "outputs": [],
      "source": []
    },
    {
      "cell_type": "code",
      "execution_count": null,
      "id": "5b83dbf8-1b41-46e1-afb9-8d0fd9a22340",
      "metadata": {
        "id": "5b83dbf8-1b41-46e1-afb9-8d0fd9a22340"
      },
      "outputs": [],
      "source": []
    }
  ],
  "metadata": {
    "kernelspec": {
      "display_name": "Python 3",
      "language": "python",
      "name": "python3"
    },
    "language_info": {
      "codemirror_mode": {
        "name": "ipython",
        "version": 3
      },
      "file_extension": ".py",
      "mimetype": "text/x-python",
      "name": "python",
      "nbconvert_exporter": "python",
      "pygments_lexer": "ipython3",
      "version": "3.8.8"
    },
    "colab": {
      "provenance": [],
      "include_colab_link": true
    }
  },
  "nbformat": 4,
  "nbformat_minor": 5
}